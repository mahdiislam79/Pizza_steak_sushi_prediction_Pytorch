{
 "cells": [
  {
   "cell_type": "code",
   "execution_count": 1,
   "metadata": {},
   "outputs": [
    {
     "data": {
      "text/plain": [
       "'1.13.1'"
      ]
     },
     "execution_count": 1,
     "metadata": {},
     "output_type": "execute_result"
    }
   ],
   "source": [
    "import torch\n",
    "from torch import nn\n",
    "\n",
    "torch.__version__"
   ]
  },
  {
   "cell_type": "code",
   "execution_count": 2,
   "metadata": {},
   "outputs": [],
   "source": [
    "# Setup device agnostic code\n",
    "device = 'mps' if torch.backends.mps.is_available() else 'cpu'"
   ]
  },
  {
   "cell_type": "code",
   "execution_count": 7,
   "metadata": {},
   "outputs": [
    {
     "name": "stdout",
     "output_type": "stream",
     "text": [
      "data/pizza_steak_sushi directory alaready exists... skipping download\n",
      "Donwloading pizza, steak, sushi data...\n",
      "Unzipping piza, steak, sushi data...\n"
     ]
    }
   ],
   "source": [
    "import requests\n",
    "import zipfile\n",
    "from pathlib import Path\n",
    "\n",
    "# Setup path to a data folder\n",
    "data_path = Path('data/')\n",
    "image_path = data_path / 'pizza_steak_sushi'\n",
    "\n",
    "# If the image folder doesn't exist, download it and prepare it...\n",
    "if image_path.is_dir():\n",
    "    print(f'{image_path} directory alaready exists... skipping download')\n",
    "else:\n",
    "    print(f'{image_path} does not exist, creating one...')\n",
    "    image_path.mkdir(parents=True, exist_ok=True)\n",
    "\n",
    "# Download pizza, steak and sushi data\n",
    "with open(data_path / 'pizza_steak_sushi.zip','wb') as f:\n",
    "    request = requests.get('https://github.com/mrdbourke/pytorch-deep-learning/raw/main/data/pizza_steak_sushi.zip')\n",
    "    print('Donwloading pizza, steak, sushi data...')\n",
    "    f.write(request.content)\n",
    "\n",
    "# Unzip pizza, steak, sushi data\n",
    "with zipfile.ZipFile(data_path / 'pizza_steak_sushi.zip','r') as zip_ref:\n",
    "    print('Unzipping piza, steak, sushi data...')\n",
    "    zip_ref.extractall(image_path)"
   ]
  },
  {
   "cell_type": "code",
   "execution_count": 8,
   "metadata": {},
   "outputs": [],
   "source": [
    "import os \n",
    "def walk_through_dir(dir_path):\n",
    "    '''Walks through dir_path directory returning it's contents.'''\n",
    "    for dirpath, dirnames, filenames in os.walk(dir_path):\n",
    "        print(f'there are {len(dirnames)} directories and {len(filenames)} images in \"{dirpath}\".')"
   ]
  },
  {
   "cell_type": "code",
   "execution_count": 9,
   "metadata": {},
   "outputs": [
    {
     "name": "stdout",
     "output_type": "stream",
     "text": [
      "there are 2 directories and 0 images in \"data/pizza_steak_sushi\".\n",
      "there are 3 directories and 0 images in \"data/pizza_steak_sushi/test\".\n",
      "there are 0 directories and 19 images in \"data/pizza_steak_sushi/test/steak\".\n",
      "there are 0 directories and 31 images in \"data/pizza_steak_sushi/test/sushi\".\n",
      "there are 0 directories and 25 images in \"data/pizza_steak_sushi/test/pizza\".\n",
      "there are 3 directories and 0 images in \"data/pizza_steak_sushi/train\".\n",
      "there are 0 directories and 75 images in \"data/pizza_steak_sushi/train/steak\".\n",
      "there are 0 directories and 72 images in \"data/pizza_steak_sushi/train/sushi\".\n",
      "there are 0 directories and 78 images in \"data/pizza_steak_sushi/train/pizza\".\n"
     ]
    }
   ],
   "source": [
    "walk_through_dir(image_path)"
   ]
  },
  {
   "cell_type": "code",
   "execution_count": null,
   "metadata": {},
   "outputs": [],
   "source": []
  }
 ],
 "metadata": {
  "kernelspec": {
   "display_name": "torch-gpu",
   "language": "python",
   "name": "python3"
  },
  "language_info": {
   "codemirror_mode": {
    "name": "ipython",
    "version": 3
   },
   "file_extension": ".py",
   "mimetype": "text/x-python",
   "name": "python",
   "nbconvert_exporter": "python",
   "pygments_lexer": "ipython3",
   "version": "3.8.15"
  },
  "orig_nbformat": 4,
  "vscode": {
   "interpreter": {
    "hash": "c77e0f1fe3dbd174855b0f9304aca02f96412cb1ddff276e3516b4861838cbf1"
   }
  }
 },
 "nbformat": 4,
 "nbformat_minor": 2
}
